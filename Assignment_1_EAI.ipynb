{
  "nbformat": 4,
  "nbformat_minor": 0,
  "metadata": {
    "colab": {
      "provenance": [],
      "authorship_tag": "ABX9TyOa/TQipJUasCAV6uKd+Yhw",
      "include_colab_link": true
    },
    "kernelspec": {
      "name": "python3",
      "display_name": "Python 3"
    },
    "language_info": {
      "name": "python"
    }
  },
  "cells": [
    {
      "cell_type": "markdown",
      "metadata": {
        "id": "view-in-github",
        "colab_type": "text"
      },
      "source": [
        "<a href=\"https://colab.research.google.com/github/Rushindhra-Goud/EXPLAINABLE-AI/blob/main/Assignment_1_EAI.ipynb\" target=\"_parent\"><img src=\"https://colab.research.google.com/assets/colab-badge.svg\" alt=\"Open In Colab\"/></a>"
      ]
    },
    {
      "cell_type": "markdown",
      "source": [
        "question-1"
      ],
      "metadata": {
        "id": "3kKlKL-ia8BJ"
      }
    },
    {
      "cell_type": "markdown",
      "source": [
        "1. Perform Linear Regression Analysis"
      ],
      "metadata": {
        "id": "9QGUhxCvUKl_"
      }
    },
    {
      "cell_type": "code",
      "execution_count": null,
      "metadata": {
        "id": "e0SCKMvpTbCu"
      },
      "outputs": [],
      "source": [
        "import pandas as pd\n",
        "import numpy as np\n",
        "from sklearn.linear_model import LinearRegression\n",
        "\n",
        "data = {\n",
        "    \"GoogleAds\": [1, 2, 3, 1, 2],\n",
        "    \"BooksSold\": [100, 130, 160, 110, 140]\n",
        "}\n",
        "df = pd.DataFrame(data)\n",
        "\n",
        "X = df[[\"GoogleAds\"]]\n",
        "y = df[\"BooksSold\"]\n",
        "\n",
        "model = LinearRegression()\n",
        "model.fit(X, y)\n",
        "\n",
        "df[\"Predicted\"] = model.predict(X)\n"
      ]
    },
    {
      "cell_type": "markdown",
      "source": [
        "2. Calculate the Baseline Value"
      ],
      "metadata": {
        "id": "-xEqw1LBT2x9"
      }
    },
    {
      "cell_type": "code",
      "source": [
        "baseline = y.mean()\n",
        "print(\"Baseline (mean of BooksSold):\", baseline)\n"
      ],
      "metadata": {
        "colab": {
          "base_uri": "https://localhost:8080/"
        },
        "id": "0I0Gd4VBT6Os",
        "outputId": "846b30e8-0dc4-446e-de57-c8f0ff9190b8"
      },
      "execution_count": null,
      "outputs": [
        {
          "output_type": "stream",
          "name": "stdout",
          "text": [
            "Baseline (mean of BooksSold): 128.0\n"
          ]
        }
      ]
    },
    {
      "cell_type": "markdown",
      "source": [
        "3. Calculate SHAP Values"
      ],
      "metadata": {
        "id": "LUwsS1IMT8xK"
      }
    },
    {
      "cell_type": "code",
      "source": [
        "df[\"SHAP_Value\"] = df[\"Predicted\"] - baseline\n"
      ],
      "metadata": {
        "id": "rQJtFg94T_N3"
      },
      "execution_count": null,
      "outputs": []
    },
    {
      "cell_type": "markdown",
      "source": [
        "4. Compute Final Prediction"
      ],
      "metadata": {
        "id": "-GI4kosdUCdA"
      }
    },
    {
      "cell_type": "code",
      "source": [
        "df[\"FinalPrediction\"] = baseline + df[\"SHAP_Value\"]\n"
      ],
      "metadata": {
        "id": "gBwzXgwwUE9O"
      },
      "execution_count": null,
      "outputs": []
    },
    {
      "cell_type": "markdown",
      "source": [
        "5. Interpret the Results"
      ],
      "metadata": {
        "id": "IV1iNcYJUGuJ"
      }
    },
    {
      "cell_type": "code",
      "source": [
        "df[\"Error\"] = df[\"BooksSold\"] - df[\"Predicted\"]\n",
        "df[\"PredictionType\"] = np.where(df[\"Error\"] > 0, \"Underprediction\",\n",
        "                                np.where(df[\"Error\"] < 0, \"Overprediction\", \"Exact\"))\n",
        "\n",
        "print(\"\\nDetailed Results:\")\n",
        "print(df)\n",
        "\n",
        "for i, row in df.iterrows():\n",
        "    print(f\"\\nAdSpend={row['GoogleAds']}k → Actual={row['BooksSold']}, \"\n",
        "          f\"Predicted={row['Predicted']:.2f}, SHAP={row['SHAP_Value']:.2f}, \"\n",
        "          f\"{row['PredictionType']}\")\n"
      ],
      "metadata": {
        "colab": {
          "base_uri": "https://localhost:8080/"
        },
        "id": "4Nmys72KUIeU",
        "outputId": "75a61b52-ebd5-46a9-a9de-f14e2407b6e4"
      },
      "execution_count": null,
      "outputs": [
        {
          "output_type": "stream",
          "name": "stdout",
          "text": [
            "\n",
            "Detailed Results:\n",
            "   GoogleAds  BooksSold   Predicted  SHAP_Value  FinalPrediction     Error  \\\n",
            "0          1        100  105.714286  -22.285714       105.714286 -5.714286   \n",
            "1          2        130  133.571429    5.571429       133.571429 -3.571429   \n",
            "2          3        160  161.428571   33.428571       161.428571 -1.428571   \n",
            "3          1        110  105.714286  -22.285714       105.714286  4.285714   \n",
            "4          2        140  133.571429    5.571429       133.571429  6.428571   \n",
            "\n",
            "    PredictionType  \n",
            "0   Overprediction  \n",
            "1   Overprediction  \n",
            "2   Overprediction  \n",
            "3  Underprediction  \n",
            "4  Underprediction  \n",
            "\n",
            "AdSpend=1k → Actual=100, Predicted=105.71, SHAP=-22.29, Overprediction\n",
            "\n",
            "AdSpend=2k → Actual=130, Predicted=133.57, SHAP=5.57, Overprediction\n",
            "\n",
            "AdSpend=3k → Actual=160, Predicted=161.43, SHAP=33.43, Overprediction\n",
            "\n",
            "AdSpend=1k → Actual=110, Predicted=105.71, SHAP=-22.29, Underprediction\n",
            "\n",
            "AdSpend=2k → Actual=140, Predicted=133.57, SHAP=5.57, Underprediction\n"
          ]
        }
      ]
    },
    {
      "cell_type": "markdown",
      "source": [
        "question-2"
      ],
      "metadata": {
        "id": "66Js9ekubArt"
      }
    },
    {
      "cell_type": "markdown",
      "source": [
        "1. Perform Multiple Linear Regression Analysis"
      ],
      "metadata": {
        "id": "uKg-vHUObCtM"
      }
    },
    {
      "cell_type": "code",
      "source": [
        "import pandas as pd\n",
        "import numpy as np\n",
        "from sklearn.linear_model import LinearRegression\n",
        "\n",
        "data = {\n",
        "    \"Footfall\": [100, 80, 120, 90, 60],\n",
        "    \"Promotions\": [1, 0, 1, 0, 1],\n",
        "    \"Sales\": [1500, 1000, 1700, 1100, 900]\n",
        "}\n",
        "df = pd.DataFrame(data)\n",
        "\n",
        "X = df[[\"Footfall\", \"Promotions\"]]\n",
        "y = df[\"Sales\"]\n",
        "\n",
        "model = LinearRegression()\n",
        "model.fit(X, y)\n",
        "\n",
        "df[\"Predicted\"] = model.predict(X)\n"
      ],
      "metadata": {
        "id": "flrRrcHfbIB0"
      },
      "execution_count": 6,
      "outputs": []
    },
    {
      "cell_type": "markdown",
      "source": [
        "2. Calculate the Baseline Value"
      ],
      "metadata": {
        "id": "0Jgl545IbJ9p"
      }
    },
    {
      "cell_type": "code",
      "source": [
        "baseline = y.mean()\n",
        "print(\"Baseline (mean of Sales):\", baseline)\n"
      ],
      "metadata": {
        "colab": {
          "base_uri": "https://localhost:8080/"
        },
        "id": "Qb3hmXbsbMHF",
        "outputId": "0b35b717-2ba9-490d-d3a0-090dcc2c0ff0"
      },
      "execution_count": 7,
      "outputs": [
        {
          "output_type": "stream",
          "name": "stdout",
          "text": [
            "Baseline (mean of Sales): 1240.0\n"
          ]
        }
      ]
    },
    {
      "cell_type": "markdown",
      "source": [
        "3. Calculate SHAP Values"
      ],
      "metadata": {
        "id": "UInNlC0ubOFM"
      }
    },
    {
      "cell_type": "code",
      "source": [
        "coeffs = model.coef_\n",
        "df[\"SHAP_Footfall\"] = coeffs[0] * (df[\"Footfall\"] - df[\"Footfall\"].mean())\n",
        "df[\"SHAP_Promotions\"] = coeffs[1] * (df[\"Promotions\"] - df[\"Promotions\"].mean())\n",
        "df[\"Total_SHAP\"] = df[\"SHAP_Footfall\"] + df[\"SHAP_Promotions\"]\n"
      ],
      "metadata": {
        "id": "f4wzSXjabQzn"
      },
      "execution_count": 8,
      "outputs": []
    },
    {
      "cell_type": "markdown",
      "source": [
        "4. Compute Final Prediction for Each Record"
      ],
      "metadata": {
        "id": "rRZW0GWUbSmK"
      }
    },
    {
      "cell_type": "code",
      "source": [
        "df[\"FinalPrediction\"] = baseline + df[\"Total_SHAP\"]\n"
      ],
      "metadata": {
        "id": "fpc1mhYebUso"
      },
      "execution_count": 9,
      "outputs": []
    },
    {
      "cell_type": "markdown",
      "source": [
        "5. Interpret the Results"
      ],
      "metadata": {
        "id": "767Z3-x2bWWA"
      }
    },
    {
      "cell_type": "code",
      "source": [
        "df[\"Error\"] = df[\"Sales\"] - df[\"Predicted\"]\n",
        "df[\"PredictionType\"] = np.where(df[\"Error\"] > 0, \"Underprediction\",\n",
        "                                np.where(df[\"Error\"] < 0, \"Overprediction\", \"Exact\"))\n",
        "\n",
        "print(\"\\nDetailed Results:\")\n",
        "print(df)\n",
        "\n",
        "for i, row in df.iterrows():\n",
        "    print(f\"\\nFootfall={row['Footfall']}, Promotion={row['Promotions']}, \"\n",
        "          f\"Actual={row['Sales']}, Predicted={row['Predicted']:.2f}, \"\n",
        "          f\"SHAP(Footfall)={row['SHAP_Footfall']:.2f}, SHAP(Promotions)={row['SHAP_Promotions']:.2f}, \"\n",
        "          f\"{row['PredictionType']}\")\n"
      ],
      "metadata": {
        "colab": {
          "base_uri": "https://localhost:8080/"
        },
        "id": "GGDM9imHbYCL",
        "outputId": "8aadb82d-abf0-4452-9d51-117756d156c6"
      },
      "execution_count": 10,
      "outputs": [
        {
          "output_type": "stream",
          "name": "stdout",
          "text": [
            "\n",
            "Detailed Results:\n",
            "   Footfall  Promotions  Sales    Predicted  SHAP_Footfall  SHAP_Promotions  \\\n",
            "0       100           1   1500  1456.521739     134.782609        81.739130   \n",
            "1        80           0   1000   982.608696    -134.782609      -122.608696   \n",
            "2       120           1   1700  1726.086957     404.347826        81.739130   \n",
            "3        90           0   1100  1117.391304       0.000000      -122.608696   \n",
            "4        60           1    900   917.391304    -404.347826        81.739130   \n",
            "\n",
            "   Total_SHAP  FinalPrediction      Error   PredictionType  \n",
            "0  216.521739      1456.521739  43.478261  Underprediction  \n",
            "1 -257.391304       982.608696  17.391304  Underprediction  \n",
            "2  486.086957      1726.086957 -26.086957   Overprediction  \n",
            "3 -122.608696      1117.391304 -17.391304   Overprediction  \n",
            "4 -322.608696       917.391304 -17.391304   Overprediction  \n",
            "\n",
            "Footfall=100, Promotion=1, Actual=1500, Predicted=1456.52, SHAP(Footfall)=134.78, SHAP(Promotions)=81.74, Underprediction\n",
            "\n",
            "Footfall=80, Promotion=0, Actual=1000, Predicted=982.61, SHAP(Footfall)=-134.78, SHAP(Promotions)=-122.61, Underprediction\n",
            "\n",
            "Footfall=120, Promotion=1, Actual=1700, Predicted=1726.09, SHAP(Footfall)=404.35, SHAP(Promotions)=81.74, Overprediction\n",
            "\n",
            "Footfall=90, Promotion=0, Actual=1100, Predicted=1117.39, SHAP(Footfall)=0.00, SHAP(Promotions)=-122.61, Overprediction\n",
            "\n",
            "Footfall=60, Promotion=1, Actual=900, Predicted=917.39, SHAP(Footfall)=-404.35, SHAP(Promotions)=81.74, Overprediction\n"
          ]
        }
      ]
    },
    {
      "cell_type": "markdown",
      "source": [
        "question-3"
      ],
      "metadata": {
        "id": "dnuGNtXLbdp_"
      }
    },
    {
      "cell_type": "markdown",
      "source": [
        "1. Perform Multiple Linear Regression Analysis"
      ],
      "metadata": {
        "id": "KJ-Sg1umbfiD"
      }
    },
    {
      "cell_type": "code",
      "source": [
        "import pandas as pd\n",
        "import numpy as np\n",
        "from sklearn.datasets import load_diabetes\n",
        "from sklearn.linear_model import LinearRegression\n",
        "from sklearn.model_selection import train_test_split\n",
        "\n",
        "diabetes = load_diabetes()\n",
        "X = pd.DataFrame(diabetes.data, columns=diabetes.feature_names)\n",
        "y = pd.Series(diabetes.target, name=\"DiseaseProgression\")\n",
        "\n",
        "X_train, X_test, y_train, y_test = train_test_split(X, y, test_size=0.2, random_state=42)\n",
        "\n",
        "model = LinearRegression()\n",
        "model.fit(X_train, y_train)\n",
        "\n",
        "y_pred = model.predict(X_test)\n"
      ],
      "metadata": {
        "id": "ScudO5jYbvxO"
      },
      "execution_count": 11,
      "outputs": []
    },
    {
      "cell_type": "markdown",
      "source": [
        "2. Calculate the Baseline Value"
      ],
      "metadata": {
        "id": "FAb0VYIdbx9d"
      }
    },
    {
      "cell_type": "code",
      "source": [
        "baseline = y_train.mean()\n",
        "print(\"Baseline (mean disease progression):\", baseline)\n"
      ],
      "metadata": {
        "colab": {
          "base_uri": "https://localhost:8080/"
        },
        "id": "O0S-MDYpbzuz",
        "outputId": "beaa7b65-92c2-4862-a25a-e8ae03a15700"
      },
      "execution_count": 12,
      "outputs": [
        {
          "output_type": "stream",
          "name": "stdout",
          "text": [
            "Baseline (mean disease progression): 153.73654390934846\n"
          ]
        }
      ]
    },
    {
      "cell_type": "markdown",
      "source": [
        "3. Calculate SHAP Values"
      ],
      "metadata": {
        "id": "NarhGFzYb22E"
      }
    },
    {
      "cell_type": "code",
      "source": [
        "coeffs = model.coef_\n",
        "X_train_mean = X_train.mean()\n",
        "X_test_centered = X_test - X_train_mean\n",
        "\n",
        "shap_values = X_test_centered.multiply(coeffs, axis=1)\n",
        "shap_values[\"Total_SHAP\"] = shap_values.sum(axis=1)\n"
      ],
      "metadata": {
        "id": "QNTZAESZb3jc"
      },
      "execution_count": 13,
      "outputs": []
    },
    {
      "cell_type": "markdown",
      "source": [
        "4. Compute Final Prediction for Each Record"
      ],
      "metadata": {
        "id": "EB8m-4iVb5Qx"
      }
    },
    {
      "cell_type": "code",
      "source": [
        "final_predictions = baseline + shap_values[\"Total_SHAP\"]\n"
      ],
      "metadata": {
        "id": "Pu2Odj4Zb7Hu"
      },
      "execution_count": 14,
      "outputs": []
    },
    {
      "cell_type": "markdown",
      "source": [
        "5. Interpret the Results"
      ],
      "metadata": {
        "id": "M1al0rxdb8v6"
      }
    },
    {
      "cell_type": "code",
      "source": [
        "results = X_test.copy()\n",
        "results[\"Actual\"] = y_test.values\n",
        "results[\"Predicted\"] = y_pred\n",
        "results[\"FinalPrediction\"] = final_predictions\n",
        "results[\"Error\"] = results[\"Actual\"] - results[\"Predicted\"]\n",
        "results[\"PredictionType\"] = np.where(results[\"Error\"] > 0, \"Underprediction\",\n",
        "                                     np.where(results[\"Error\"] < 0, \"Overprediction\", \"Exact\"))\n",
        "\n",
        "print(results.head())\n",
        "\n",
        "for i in range(5):\n",
        "    print(f\"\\nRecord {i+1}:\")\n",
        "    print(\"Features:\", X_test.iloc[i].to_dict())\n",
        "    print(\"SHAP Contributions:\", shap_values.iloc[i].drop(\"Total_SHAP\").to_dict())\n",
        "    print(f\"Actual={results['Actual'].iloc[i]}, Predicted={results['Predicted'].iloc[i]:.2f}, \"\n",
        "          f\"FinalPrediction={results['FinalPrediction'].iloc[i]:.2f}, {results['PredictionType'].iloc[i]}\")\n"
      ],
      "metadata": {
        "colab": {
          "base_uri": "https://localhost:8080/"
        },
        "id": "5DLFTo-JcBW9",
        "outputId": "25239787-1a95-4498-f71d-209474f9922b"
      },
      "execution_count": 15,
      "outputs": [
        {
          "output_type": "stream",
          "name": "stdout",
          "text": [
            "          age       sex       bmi        bp        s1        s2        s3  \\\n",
            "287  0.045341 -0.044642 -0.006206 -0.015999  0.125019  0.125198  0.019187   \n",
            "211  0.092564 -0.044642  0.036907  0.021872 -0.024960 -0.016658  0.000779   \n",
            "72   0.063504  0.050680 -0.004050 -0.012556  0.103003  0.048790  0.056003   \n",
            "321  0.096197 -0.044642  0.051996  0.079265  0.054845  0.036577 -0.076536   \n",
            "73   0.012648  0.050680 -0.020218 -0.002228  0.038334  0.053174 -0.006584   \n",
            "\n",
            "           s4        s5        s6  Actual   Predicted  FinalPrediction  \\\n",
            "287  0.034309  0.032432 -0.005220   219.0  139.547558       139.547558   \n",
            "211 -0.039493 -0.022517 -0.021788    70.0  179.517208       179.517208   \n",
            "72  -0.002592  0.084492 -0.017646   202.0  134.038756       134.038756   \n",
            "321  0.141322  0.098648  0.061054   230.0  291.417029       291.417029   \n",
            "73   0.034309 -0.005142 -0.009362   111.0  123.789659       123.789659   \n",
            "\n",
            "          Error   PredictionType  \n",
            "287   79.452442  Underprediction  \n",
            "211 -109.517208   Overprediction  \n",
            "72    67.961244  Underprediction  \n",
            "321  -61.417029   Overprediction  \n",
            "73   -12.789659   Overprediction  \n",
            "\n",
            "Record 1:\n",
            "Features: {'age': 0.04534098333546186, 'sex': -0.044641636506989144, 'bmi': -0.006205954135807083, 'bp': -0.015998975220305175, 's1': 0.12501870313429186, 's2': 0.1251981011367534, 's3': 0.019186997017453092, 's4': 0.03430885887772673, 's5': 0.03243232415655107, 's6': -0.005219804415300423}\n",
            "SHAP Contributions: {'age': 1.6639552940517688, 'sex': 10.846180288920497, 'bmi': -4.307758996183076, 'bp': -5.97298298690318, 's1': -116.97097897972122, 's2': 65.27797629488006, 's3': 3.297161730533657, 's4': 9.34217114194586, 's5': 22.981378623125206, 's6': -0.34608791620192836}\n",
            "Actual=219.0, Predicted=139.55, FinalPrediction=139.55, Underprediction\n",
            "\n",
            "Record 2:\n",
            "Features: {'age': 0.09256398319871433, 'sex': -0.044641636506989144, 'bmi': 0.0369065288194249, 'bp': 0.0218723855140367, 's1': -0.0249601584096303, 's2': -0.016658152053905938, 's3': 0.0007788079970183853, 's4': -0.03949338287409329, 's5': -0.022516528376302174, 's6': -0.021788232074638245}\n",
            "SHAP Contributions: {'age': 3.453896889083078, 'sex': 10.846180288920497, 'bmi': 19.077691609778118, 'bp': 7.195034714675776, 's1': 22.73265766675052, 's2': -8.212397237397763, 's3': 0.28889579391339115, 's4': -10.976907188965338, 's5': -17.471903909683103, 's6': -1.1524841829958603}\n",
            "Actual=70.0, Predicted=179.52, FinalPrediction=179.52, Overprediction\n",
            "\n",
            "Record 3:\n",
            "Features: {'age': 0.06350367559055897, 'sex': 0.05068011873981862, 'bmi': -0.004050329988045492, 'bp': -0.012556124244455912, 's1': 0.10300345740307394, 's2': 0.04878987646010685, 's3': 0.05600337505832251, 's4': -0.002592261998183278, 's5': 0.08449153066204618, 's6': -0.01764612515980379}\n",
            "SHAP Contributions: {'age': 2.3523943690638114, 'sex': -12.218287433904417, 'bmi': -3.1384864658850207, 'bp': -4.77589046857782, 's1': -96.46402314170703, 's2': 25.693757438642105, 's3': 9.313693603774189, 's4': -0.8173680235097387, 's5': 61.307307047954005, 's6': -0.9508851162973774}\n",
            "Actual=202.0, Predicted=134.04, FinalPrediction=134.04, Underprediction\n",
            "\n",
            "Record 4:\n",
            "Features: {'age': 0.09619652164973376, 'sex': -0.044641636506989144, 'bmi': 0.05199589785375607, 'bp': 0.0792647112814439, 's1': 0.05484510736603471, 's2': 0.036577086450315016, 's3': -0.07653558588880739, 's4': 0.14132210941786577, 's5': 0.0986480615153178, 's6': 0.06105390622205087}\n",
            "SHAP Contributions: {'age': 3.591584704085487, 'sex': 10.846180288920497, 'bmi': 27.262599321864524, 'bp': 27.150566995159526, 's1': -51.60505724605096, 's2': 19.36677163784999, 's3': -12.345821139891726, 's4': 38.8048347217671, 's5': 71.72932890818151, 's6': 2.8794971509737994}\n",
            "Actual=230.0, Predicted=291.42, FinalPrediction=291.42, Overprediction\n",
            "\n",
            "Record 5:\n",
            "Features: {'age': 0.012648137276287077, 'sex': 0.05068011873981862, 'bmi': -0.020217511096257485, 'bp': -0.002227571316908129, 's1': 0.03833367306762126, 's2': 0.05317395492516036, 's3': -0.006584467611155497, 's4': 0.03430885887772673, 's5': -0.005142189801713891, 's6': -0.009361911330134878}\n",
            "SHAP Contributions: {'age': 0.42476495903009287, 'sex': -12.218287433904417, 'bmi': -11.908030443120468, 'bp': -1.184612913601741, 's1': -36.22484036754032, 's2': 27.96498311072134, 's3': -0.914410580734715, 's4': 9.34217114194586, 's5': -4.680935676847575, 's6': -0.5476869829004113}\n",
            "Actual=111.0, Predicted=123.79, FinalPrediction=123.79, Overprediction\n"
          ]
        }
      ]
    },
    {
      "cell_type": "markdown",
      "source": [
        "question-4"
      ],
      "metadata": {
        "id": "SD5PYD4KcHgG"
      }
    },
    {
      "cell_type": "markdown",
      "source": [
        "1. Perform Multiple Linear Regression Analysis"
      ],
      "metadata": {
        "id": "donG6xGMcJWS"
      }
    },
    {
      "cell_type": "code",
      "source": [
        "print(df.columns.tolist())\n",
        "\n",
        "import pandas as pd\n",
        "import numpy as np\n",
        "from sklearn.linear_model import LinearRegression\n",
        "from sklearn.model_selection import train_test_split\n",
        "\n",
        "df_math = pd.read_csv(\"/content/Maths.csv\", sep=\";\", encoding=\"utf-8\", errors=\"ignore\")\n",
        "df_portuguese = pd.read_csv(\"/content/Portuguese.csv\", sep=\";\", encoding=\"utf-8\", errors=\"ignore\")\n",
        "\n",
        "df = pd.concat([df_math, df_portuguese], ignore_index=True)\n",
        "\n",
        "print(df.columns.tolist())\n",
        "features = [\"studytime\", \"failures\", \"absences\", \"Medu\", \"Fedu\", \"health\"]\n",
        "X = df[features]\n",
        "y = df[\"G3\"]\n",
        "\n",
        "X_train, X_test, y_train, y_test = train_test_split(X, y, test_size=0.2, random_state=42)\n",
        "\n",
        "model = LinearRegression()\n",
        "model.fit(X_train, y_train)\n",
        "\n",
        "y_pred = model.predict(X_test)\n"
      ],
      "metadata": {
        "colab": {
          "base_uri": "https://localhost:8080/",
          "height": 228
        },
        "id": "FLhOS6HwcUyi",
        "outputId": "35fa1b25-0f19-4d58-d1f0-72f1468ffe58"
      },
      "execution_count": 32,
      "outputs": [
        {
          "output_type": "stream",
          "name": "stdout",
          "text": [
            "['Footfall', 'Promotions', 'Sales', 'Predicted', 'SHAP_Footfall', 'SHAP_Promotions', 'Total_SHAP', 'FinalPrediction', 'Error', 'PredictionType']\n"
          ]
        },
        {
          "output_type": "error",
          "ename": "TypeError",
          "evalue": "read_csv() got an unexpected keyword argument 'errors'",
          "traceback": [
            "\u001b[0;31m---------------------------------------------------------------------------\u001b[0m",
            "\u001b[0;31mTypeError\u001b[0m                                 Traceback (most recent call last)",
            "\u001b[0;32m/tmp/ipython-input-430152067.py\u001b[0m in \u001b[0;36m<cell line: 0>\u001b[0;34m()\u001b[0m\n\u001b[1;32m      6\u001b[0m \u001b[0;32mfrom\u001b[0m \u001b[0msklearn\u001b[0m\u001b[0;34m.\u001b[0m\u001b[0mmodel_selection\u001b[0m \u001b[0;32mimport\u001b[0m \u001b[0mtrain_test_split\u001b[0m\u001b[0;34m\u001b[0m\u001b[0;34m\u001b[0m\u001b[0m\n\u001b[1;32m      7\u001b[0m \u001b[0;34m\u001b[0m\u001b[0m\n\u001b[0;32m----> 8\u001b[0;31m \u001b[0mdf_math\u001b[0m \u001b[0;34m=\u001b[0m \u001b[0mpd\u001b[0m\u001b[0;34m.\u001b[0m\u001b[0mread_csv\u001b[0m\u001b[0;34m(\u001b[0m\u001b[0;34m\"/content/Maths.csv\"\u001b[0m\u001b[0;34m,\u001b[0m \u001b[0msep\u001b[0m\u001b[0;34m=\u001b[0m\u001b[0;34m\";\"\u001b[0m\u001b[0;34m,\u001b[0m \u001b[0mencoding\u001b[0m\u001b[0;34m=\u001b[0m\u001b[0;34m\"utf-8\"\u001b[0m\u001b[0;34m,\u001b[0m \u001b[0merrors\u001b[0m\u001b[0;34m=\u001b[0m\u001b[0;34m\"ignore\"\u001b[0m\u001b[0;34m)\u001b[0m\u001b[0;34m\u001b[0m\u001b[0;34m\u001b[0m\u001b[0m\n\u001b[0m\u001b[1;32m      9\u001b[0m \u001b[0mdf_portuguese\u001b[0m \u001b[0;34m=\u001b[0m \u001b[0mpd\u001b[0m\u001b[0;34m.\u001b[0m\u001b[0mread_csv\u001b[0m\u001b[0;34m(\u001b[0m\u001b[0;34m\"/content/Portuguese.csv\"\u001b[0m\u001b[0;34m,\u001b[0m \u001b[0msep\u001b[0m\u001b[0;34m=\u001b[0m\u001b[0;34m\";\"\u001b[0m\u001b[0;34m,\u001b[0m \u001b[0mencoding\u001b[0m\u001b[0;34m=\u001b[0m\u001b[0;34m\"utf-8\"\u001b[0m\u001b[0;34m,\u001b[0m \u001b[0merrors\u001b[0m\u001b[0;34m=\u001b[0m\u001b[0;34m\"ignore\"\u001b[0m\u001b[0;34m)\u001b[0m\u001b[0;34m\u001b[0m\u001b[0;34m\u001b[0m\u001b[0m\n\u001b[1;32m     10\u001b[0m \u001b[0;34m\u001b[0m\u001b[0m\n",
            "\u001b[0;31mTypeError\u001b[0m: read_csv() got an unexpected keyword argument 'errors'"
          ]
        }
      ]
    },
    {
      "cell_type": "markdown",
      "source": [
        "2. Calculate the Baseline Value"
      ],
      "metadata": {
        "id": "tTldq0nxcWY_"
      }
    },
    {
      "cell_type": "code",
      "source": [
        "baseline = y_train.mean()\n",
        "print(\"Baseline (mean exam score):\", baseline)\n"
      ],
      "metadata": {
        "colab": {
          "base_uri": "https://localhost:8080/"
        },
        "id": "Q84aHqq-caCw",
        "outputId": "1c3beeed-b366-47a8-d23b-df160e16f2c0"
      },
      "execution_count": 24,
      "outputs": [
        {
          "output_type": "stream",
          "name": "stdout",
          "text": [
            "Baseline (mean exam score): 153.73654390934846\n"
          ]
        }
      ]
    },
    {
      "cell_type": "markdown",
      "source": [
        "3. Calculate SHAP Values"
      ],
      "metadata": {
        "id": "erJw5ErJcbs_"
      }
    },
    {
      "cell_type": "code",
      "source": [
        "coeffs = model.coef_\n",
        "X_train_mean = X_train.mean()\n",
        "X_test_centered = X_test - X_train_mean\n",
        "\n",
        "shap_values = X_test_centered.multiply(coeffs, axis=1)\n",
        "shap_values[\"Total_SHAP\"] = shap_values.sum(axis=1)\n"
      ],
      "metadata": {
        "id": "rHbHRwYMcdnU"
      },
      "execution_count": 25,
      "outputs": []
    },
    {
      "cell_type": "markdown",
      "source": [
        "4. Compute Final Prediction for Each Record"
      ],
      "metadata": {
        "id": "Snh81TUacfnX"
      }
    },
    {
      "cell_type": "code",
      "source": [
        "final_predictions = baseline + shap_values[\"Total_SHAP\"]\n"
      ],
      "metadata": {
        "id": "xauY07iFchXl"
      },
      "execution_count": 26,
      "outputs": []
    },
    {
      "cell_type": "markdown",
      "source": [
        "5. Interpret the Results"
      ],
      "metadata": {
        "id": "x8MOGIT0citp"
      }
    },
    {
      "cell_type": "code",
      "source": [
        "results = X_test.copy()\n",
        "results[\"Actual\"] = y_test.values\n",
        "results[\"Predicted\"] = y_pred\n",
        "results[\"FinalPrediction\"] = final_predictions\n",
        "results[\"Error\"] = results[\"Actual\"] - results[\"Predicted\"]\n",
        "results[\"PredictionType\"] = np.where(results[\"Error\"] > 0, \"Underprediction\",\n",
        "                                     np.where(results[\"Error\"] < 0, \"Overprediction\", \"Exact\"))\n",
        "\n",
        "print(results.head())\n",
        "\n",
        "for i in range(5):\n",
        "    print(f\"\\nStudent {i+1}:\")\n",
        "    print(\"Features:\", X_test.iloc[i].to_dict())\n",
        "    print(\"SHAP Contributions:\", shap_values.iloc[i].drop(\"Total_SHAP\").to_dict())\n",
        "    print(f\"Actual={results['Actual'].iloc[i]}, Predicted={results['Predicted'].iloc[i]:.2f}, \"\n",
        "          f\"FinalPrediction={results['FinalPrediction'].iloc[i]:.2f}, {results['PredictionType'].iloc[i]}\")\n"
      ],
      "metadata": {
        "colab": {
          "base_uri": "https://localhost:8080/"
        },
        "id": "SoqegfbJckca",
        "outputId": "1af15a8c-7346-4f6c-a246-7048f98a2d0b"
      },
      "execution_count": 27,
      "outputs": [
        {
          "output_type": "stream",
          "name": "stdout",
          "text": [
            "          age       sex       bmi        bp        s1        s2        s3  \\\n",
            "287  0.045341 -0.044642 -0.006206 -0.015999  0.125019  0.125198  0.019187   \n",
            "211  0.092564 -0.044642  0.036907  0.021872 -0.024960 -0.016658  0.000779   \n",
            "72   0.063504  0.050680 -0.004050 -0.012556  0.103003  0.048790  0.056003   \n",
            "321  0.096197 -0.044642  0.051996  0.079265  0.054845  0.036577 -0.076536   \n",
            "73   0.012648  0.050680 -0.020218 -0.002228  0.038334  0.053174 -0.006584   \n",
            "\n",
            "           s4        s5        s6  Actual   Predicted  FinalPrediction  \\\n",
            "287  0.034309  0.032432 -0.005220   219.0  139.547558       139.547558   \n",
            "211 -0.039493 -0.022517 -0.021788    70.0  179.517208       179.517208   \n",
            "72  -0.002592  0.084492 -0.017646   202.0  134.038756       134.038756   \n",
            "321  0.141322  0.098648  0.061054   230.0  291.417029       291.417029   \n",
            "73   0.034309 -0.005142 -0.009362   111.0  123.789659       123.789659   \n",
            "\n",
            "          Error   PredictionType  \n",
            "287   79.452442  Underprediction  \n",
            "211 -109.517208   Overprediction  \n",
            "72    67.961244  Underprediction  \n",
            "321  -61.417029   Overprediction  \n",
            "73   -12.789659   Overprediction  \n",
            "\n",
            "Student 1:\n",
            "Features: {'age': 0.04534098333546186, 'sex': -0.044641636506989144, 'bmi': -0.006205954135807083, 'bp': -0.015998975220305175, 's1': 0.12501870313429186, 's2': 0.1251981011367534, 's3': 0.019186997017453092, 's4': 0.03430885887772673, 's5': 0.03243232415655107, 's6': -0.005219804415300423}\n",
            "SHAP Contributions: {'age': 1.6639552940517688, 'sex': 10.846180288920497, 'bmi': -4.307758996183076, 'bp': -5.97298298690318, 's1': -116.97097897972122, 's2': 65.27797629488006, 's3': 3.297161730533657, 's4': 9.34217114194586, 's5': 22.981378623125206, 's6': -0.34608791620192836}\n",
            "Actual=219.0, Predicted=139.55, FinalPrediction=139.55, Underprediction\n",
            "\n",
            "Student 2:\n",
            "Features: {'age': 0.09256398319871433, 'sex': -0.044641636506989144, 'bmi': 0.0369065288194249, 'bp': 0.0218723855140367, 's1': -0.0249601584096303, 's2': -0.016658152053905938, 's3': 0.0007788079970183853, 's4': -0.03949338287409329, 's5': -0.022516528376302174, 's6': -0.021788232074638245}\n",
            "SHAP Contributions: {'age': 3.453896889083078, 'sex': 10.846180288920497, 'bmi': 19.077691609778118, 'bp': 7.195034714675776, 's1': 22.73265766675052, 's2': -8.212397237397763, 's3': 0.28889579391339115, 's4': -10.976907188965338, 's5': -17.471903909683103, 's6': -1.1524841829958603}\n",
            "Actual=70.0, Predicted=179.52, FinalPrediction=179.52, Overprediction\n",
            "\n",
            "Student 3:\n",
            "Features: {'age': 0.06350367559055897, 'sex': 0.05068011873981862, 'bmi': -0.004050329988045492, 'bp': -0.012556124244455912, 's1': 0.10300345740307394, 's2': 0.04878987646010685, 's3': 0.05600337505832251, 's4': -0.002592261998183278, 's5': 0.08449153066204618, 's6': -0.01764612515980379}\n",
            "SHAP Contributions: {'age': 2.3523943690638114, 'sex': -12.218287433904417, 'bmi': -3.1384864658850207, 'bp': -4.77589046857782, 's1': -96.46402314170703, 's2': 25.693757438642105, 's3': 9.313693603774189, 's4': -0.8173680235097387, 's5': 61.307307047954005, 's6': -0.9508851162973774}\n",
            "Actual=202.0, Predicted=134.04, FinalPrediction=134.04, Underprediction\n",
            "\n",
            "Student 4:\n",
            "Features: {'age': 0.09619652164973376, 'sex': -0.044641636506989144, 'bmi': 0.05199589785375607, 'bp': 0.0792647112814439, 's1': 0.05484510736603471, 's2': 0.036577086450315016, 's3': -0.07653558588880739, 's4': 0.14132210941786577, 's5': 0.0986480615153178, 's6': 0.06105390622205087}\n",
            "SHAP Contributions: {'age': 3.591584704085487, 'sex': 10.846180288920497, 'bmi': 27.262599321864524, 'bp': 27.150566995159526, 's1': -51.60505724605096, 's2': 19.36677163784999, 's3': -12.345821139891726, 's4': 38.8048347217671, 's5': 71.72932890818151, 's6': 2.8794971509737994}\n",
            "Actual=230.0, Predicted=291.42, FinalPrediction=291.42, Overprediction\n",
            "\n",
            "Student 5:\n",
            "Features: {'age': 0.012648137276287077, 'sex': 0.05068011873981862, 'bmi': -0.020217511096257485, 'bp': -0.002227571316908129, 's1': 0.03833367306762126, 's2': 0.05317395492516036, 's3': -0.006584467611155497, 's4': 0.03430885887772673, 's5': -0.005142189801713891, 's6': -0.009361911330134878}\n",
            "SHAP Contributions: {'age': 0.42476495903009287, 'sex': -12.218287433904417, 'bmi': -11.908030443120468, 'bp': -1.184612913601741, 's1': -36.22484036754032, 's2': 27.96498311072134, 's3': -0.914410580734715, 's4': 9.34217114194586, 's5': -4.680935676847575, 's6': -0.5476869829004113}\n",
            "Actual=111.0, Predicted=123.79, FinalPrediction=123.79, Overprediction\n"
          ]
        }
      ]
    }
  ]
}