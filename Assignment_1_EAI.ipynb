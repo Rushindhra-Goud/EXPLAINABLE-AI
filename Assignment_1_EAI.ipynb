{
  "nbformat": 4,
  "nbformat_minor": 0,
  "metadata": {
    "colab": {
      "provenance": [],
      "authorship_tag": "ABX9TyMFqJBAskxt9k5NSshY05rk",
      "include_colab_link": true
    },
    "kernelspec": {
      "name": "python3",
      "display_name": "Python 3"
    },
    "language_info": {
      "name": "python"
    }
  },
  "cells": [
    {
      "cell_type": "markdown",
      "metadata": {
        "id": "view-in-github",
        "colab_type": "text"
      },
      "source": [
        "<a href=\"https://colab.research.google.com/github/Rushindhra-Goud/EXPLAINABLE-AI/blob/main/Assignment_1_EAI.ipynb\" target=\"_parent\"><img src=\"https://colab.research.google.com/assets/colab-badge.svg\" alt=\"Open In Colab\"/></a>"
      ]
    },
    {
      "cell_type": "markdown",
      "source": [
        "1. Perform Linear Regression Analysis"
      ],
      "metadata": {
        "id": "9QGUhxCvUKl_"
      }
    },
    {
      "cell_type": "code",
      "execution_count": null,
      "metadata": {
        "id": "e0SCKMvpTbCu"
      },
      "outputs": [],
      "source": [
        "import pandas as pd\n",
        "import numpy as np\n",
        "from sklearn.linear_model import LinearRegression\n",
        "\n",
        "data = {\n",
        "    \"GoogleAds\": [1, 2, 3, 1, 2],\n",
        "    \"BooksSold\": [100, 130, 160, 110, 140]\n",
        "}\n",
        "df = pd.DataFrame(data)\n",
        "\n",
        "X = df[[\"GoogleAds\"]]\n",
        "y = df[\"BooksSold\"]\n",
        "\n",
        "model = LinearRegression()\n",
        "model.fit(X, y)\n",
        "\n",
        "df[\"Predicted\"] = model.predict(X)\n"
      ]
    },
    {
      "cell_type": "markdown",
      "source": [
        "2. Calculate the Baseline Value"
      ],
      "metadata": {
        "id": "-xEqw1LBT2x9"
      }
    },
    {
      "cell_type": "code",
      "source": [
        "baseline = y.mean()\n",
        "print(\"Baseline (mean of BooksSold):\", baseline)\n"
      ],
      "metadata": {
        "colab": {
          "base_uri": "https://localhost:8080/"
        },
        "id": "0I0Gd4VBT6Os",
        "outputId": "846b30e8-0dc4-446e-de57-c8f0ff9190b8"
      },
      "execution_count": null,
      "outputs": [
        {
          "output_type": "stream",
          "name": "stdout",
          "text": [
            "Baseline (mean of BooksSold): 128.0\n"
          ]
        }
      ]
    },
    {
      "cell_type": "markdown",
      "source": [
        "3. Calculate SHAP Values"
      ],
      "metadata": {
        "id": "LUwsS1IMT8xK"
      }
    },
    {
      "cell_type": "code",
      "source": [
        "df[\"SHAP_Value\"] = df[\"Predicted\"] - baseline\n"
      ],
      "metadata": {
        "id": "rQJtFg94T_N3"
      },
      "execution_count": null,
      "outputs": []
    },
    {
      "cell_type": "markdown",
      "source": [
        "4. Compute Final Prediction"
      ],
      "metadata": {
        "id": "-GI4kosdUCdA"
      }
    },
    {
      "cell_type": "code",
      "source": [
        "df[\"FinalPrediction\"] = baseline + df[\"SHAP_Value\"]\n"
      ],
      "metadata": {
        "id": "gBwzXgwwUE9O"
      },
      "execution_count": null,
      "outputs": []
    },
    {
      "cell_type": "markdown",
      "source": [
        "5. Interpret the Results"
      ],
      "metadata": {
        "id": "IV1iNcYJUGuJ"
      }
    },
    {
      "cell_type": "code",
      "source": [
        "df[\"Error\"] = df[\"BooksSold\"] - df[\"Predicted\"]\n",
        "df[\"PredictionType\"] = np.where(df[\"Error\"] > 0, \"Underprediction\",\n",
        "                                np.where(df[\"Error\"] < 0, \"Overprediction\", \"Exact\"))\n",
        "\n",
        "print(\"\\nDetailed Results:\")\n",
        "print(df)\n",
        "\n",
        "for i, row in df.iterrows():\n",
        "    print(f\"\\nAdSpend={row['GoogleAds']}k → Actual={row['BooksSold']}, \"\n",
        "          f\"Predicted={row['Predicted']:.2f}, SHAP={row['SHAP_Value']:.2f}, \"\n",
        "          f\"{row['PredictionType']}\")\n"
      ],
      "metadata": {
        "colab": {
          "base_uri": "https://localhost:8080/"
        },
        "id": "4Nmys72KUIeU",
        "outputId": "75a61b52-ebd5-46a9-a9de-f14e2407b6e4"
      },
      "execution_count": null,
      "outputs": [
        {
          "output_type": "stream",
          "name": "stdout",
          "text": [
            "\n",
            "Detailed Results:\n",
            "   GoogleAds  BooksSold   Predicted  SHAP_Value  FinalPrediction     Error  \\\n",
            "0          1        100  105.714286  -22.285714       105.714286 -5.714286   \n",
            "1          2        130  133.571429    5.571429       133.571429 -3.571429   \n",
            "2          3        160  161.428571   33.428571       161.428571 -1.428571   \n",
            "3          1        110  105.714286  -22.285714       105.714286  4.285714   \n",
            "4          2        140  133.571429    5.571429       133.571429  6.428571   \n",
            "\n",
            "    PredictionType  \n",
            "0   Overprediction  \n",
            "1   Overprediction  \n",
            "2   Overprediction  \n",
            "3  Underprediction  \n",
            "4  Underprediction  \n",
            "\n",
            "AdSpend=1k → Actual=100, Predicted=105.71, SHAP=-22.29, Overprediction\n",
            "\n",
            "AdSpend=2k → Actual=130, Predicted=133.57, SHAP=5.57, Overprediction\n",
            "\n",
            "AdSpend=3k → Actual=160, Predicted=161.43, SHAP=33.43, Overprediction\n",
            "\n",
            "AdSpend=1k → Actual=110, Predicted=105.71, SHAP=-22.29, Underprediction\n",
            "\n",
            "AdSpend=2k → Actual=140, Predicted=133.57, SHAP=5.57, Underprediction\n"
          ]
        }
      ]
    }
  ]
}